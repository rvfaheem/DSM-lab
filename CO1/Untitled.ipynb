{
 "cells": [
  {
   "cell_type": "code",
   "execution_count": 29,
   "id": "d2123dd9",
   "metadata": {},
   "outputs": [
    {
     "data": {
      "image/png": "[encoded data removed]",
      "text/plain": [
       "<Figure size 432x288 with 1 Axes>"
      ]
     },
     "metadata": {
      "needs_background": "light"
     },
     "output_type": "display_data"
    }
   ],
   "source": [
    "import matplotlib.pyplot as plt\n",
    " \n",
    " \n",
    "student =[1,2,3,4,5,6,7,8,9,10] \n",
    " \n",
    "physics =[8,23,12,45,13,6,4,2,8,1]\n",
    "          \n",
    "chemistry =[5,15,10,35,20,22,12,43,10,2]  \n",
    "plt.title('Students mark') \n",
    " \n",
    "plt.scatter(students,physics,color=\"blue\",marker =\"s\",label=\"physics\")\n",
    "plt.scatter(students,chemistry,color=\"red\",marker =\"^\",label=\"chemistry\")\n",
    "plt.legend()\n",
    "plt.show()"
   ]
  },
  {
   "cell_type": "code",
   "execution_count": null,
   "id": "836f3d1b",
   "metadata": {},
   "outputs": [],
   "source": []
  },
  {
   "cell_type": "code",
   "execution_count": null,
   "id": "30de38e1",
   "metadata": {},
   "outputs": [],
   "source": []
  }
 ],
 "metadata": {
  "kernelspec": {
   "display_name": "Python 3 (ipykernel)",
   "language": "python",
   "name": "python3"
  },
  "language_info": {
   "codemirror_mode": {
    "name": "ipython",
    "version": 3
   },
   "file_extension": ".py",
   "mimetype": "text/x-python",
   "name": "python",
   "nbconvert_exporter": "python",
   "pygments_lexer": "ipython3",
   "version": "3.9.7"
  }
 },
 "nbformat": 4,
 "nbformat_minor": 5
}
