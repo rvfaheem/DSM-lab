{
 "cells": [
  {
   "cell_type": "code",
   "execution_count": 12,
   "id": "c83496b7",
   "metadata": {},
   "outputs": [
    {
     "name": "stdout",
     "output_type": "stream",
     "text": [
      "    Ingredient  Sweetness  Crunchiness   FoodType\n",
      "0        apple       10.0            9      fruit\n",
      "1        bacon        1.0            4    protein\n",
      "2       banana       10.0            1      fruit\n",
      "3       carrot        7.0           10  vegetable\n",
      "4       celery        NaN           10  vegetable\n",
      "5       cheese        1.0            1    protein\n",
      "6     cucumber        2.0            8  vegetable\n",
      "7         fish        3.0            1        123\n",
      "8        grape        8.0            5      fruit\n",
      "9   green bean        3.0            7  vegetable\n",
      "10     lettuce        6.0            9  vegetable\n",
      "11        nuts        3.0            6    protein\n",
      "12      orange        7.0            3      fruit\n",
      "13        pear       10.0            7      fruit\n",
      "14      shrimp        2.0            3    protein\n",
      "15      shrimp        2.0            3    protein\n",
      "16      banana       10.0            1      fruit\n",
      "    Ingredient  Sweetness  Crunchiness   FoodType\n",
      "0        apple       10.0            9      fruit\n",
      "1        bacon        1.0            4    protein\n",
      "2       banana       10.0            1      fruit\n",
      "3       carrot        7.0           10  vegetable\n",
      "4       celery        8.0           10  vegetable\n",
      "5       cheese        1.0            1    protein\n",
      "6     cucumber        2.0            8  vegetable\n",
      "7         fish        3.0            1        123\n",
      "8        grape        8.0            5      fruit\n",
      "9   green bean        3.0            7  vegetable\n",
      "10     lettuce        6.0            9  vegetable\n",
      "11        nuts        3.0            6    protein\n",
      "12      orange        7.0            3      fruit\n",
      "13        pear       10.0            7      fruit\n",
      "14      shrimp        2.0            3    protein\n",
      "15      shrimp        2.0            3    protein\n",
      "16      banana       10.0            1      fruit\n",
      "<bound method DataFrame.dropna of     Ingredient  Sweetness  Crunchiness   FoodType\n",
      "0        apple       10.0            9      fruit\n",
      "1        bacon        1.0            4    protein\n",
      "2       banana       10.0            1      fruit\n",
      "3       carrot        7.0           10  vegetable\n",
      "4       celery        NaN           10  vegetable\n",
      "5       cheese        1.0            1    protein\n",
      "6     cucumber        2.0            8  vegetable\n",
      "7         fish        3.0            1        123\n",
      "8        grape        8.0            5      fruit\n",
      "9   green bean        3.0            7  vegetable\n",
      "10     lettuce        6.0            9  vegetable\n",
      "11        nuts        3.0            6    protein\n",
      "12      orange        7.0            3      fruit\n",
      "13        pear       10.0            7      fruit\n",
      "14      shrimp        2.0            3    protein\n",
      "15      shrimp        2.0            3    protein\n",
      "16      banana       10.0            1      fruit>\n",
      "<bound method DataFrame.duplicated of     Ingredient  Sweetness  Crunchiness   FoodType\n",
      "0        apple       10.0            9      fruit\n",
      "1        bacon        1.0            4    protein\n",
      "2       banana       10.0            1      fruit\n",
      "3       carrot        7.0           10  vegetable\n",
      "4       celery        NaN           10  vegetable\n",
      "5       cheese        1.0            1    protein\n",
      "6     cucumber        2.0            8  vegetable\n",
      "7         fish        3.0            1        123\n",
      "8        grape        8.0            5      fruit\n",
      "9   green bean        3.0            7  vegetable\n",
      "10     lettuce        6.0            9  vegetable\n",
      "11        nuts        3.0            6    protein\n",
      "12      orange        7.0            3      fruit\n",
      "13        pear       10.0            7      fruit\n",
      "14      shrimp        2.0            3    protein\n",
      "15      shrimp        2.0            3    protein\n",
      "16      banana       10.0            1      fruit>\n"
     ]
    }
   ],
   "source": [
    "import pandas as pd\n",
    "df=pd.read_csv('food_cleaning.csv')\n",
    "print(df)\n",
    "print(df.fillna(8))\n",
    "print(df.dropna)\n",
    "print(df.duplicated)"
   ]
  },
  {
   "cell_type": "code",
   "execution_count": null,
   "id": "4905f82a",
   "metadata": {},
   "outputs": [],
   "source": []
  },
  {
   "cell_type": "code",
   "execution_count": null,
   "id": "a3a3e9c6",
   "metadata": {},
   "outputs": [],
   "source": []
  }
 ],
 "metadata": {
  "kernelspec": {
   "display_name": "Python 3 (ipykernel)",
   "language": "python",
   "name": "python3"
  },
  "language_info": {
   "codemirror_mode": {
    "name": "ipython",
    "version": 3
   },
   "file_extension": ".py",
   "mimetype": "text/x-python",
   "name": "python",
   "nbconvert_exporter": "python",
   "pygments_lexer": "ipython3",
   "version": "3.9.7"
  }
 },
 "nbformat": 4,
 "nbformat_minor": 5
}
